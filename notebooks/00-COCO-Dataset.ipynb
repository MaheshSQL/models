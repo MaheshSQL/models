{
 "cells": [
  {
   "cell_type": "markdown",
   "id": "433072c1-2e78-412c-84aa-3ecfad1334af",
   "metadata": {},
   "source": [
    "### 00-COCO-Dataset"
   ]
  },
  {
   "cell_type": "markdown",
   "id": "ce71f5f8-8d04-4b5c-8768-40e6a8180e89",
   "metadata": {},
   "source": [
    "Get 100 images of each of these catagories: person, bird"
   ]
  },
  {
   "cell_type": "code",
   "execution_count": 10,
   "id": "295a4b0f-4f3e-45ea-ab5c-781e575f7c6f",
   "metadata": {},
   "outputs": [],
   "source": [
    "import os\n",
    "from pycocotools.coco import COCO\n",
    "import requests\n",
    "\n",
    "from pathlib import Path\n",
    "import zipfile"
   ]
  },
  {
   "cell_type": "code",
   "execution_count": 11,
   "id": "6e1cff10-10f6-4713-ae6d-c91a59ccaab9",
   "metadata": {},
   "outputs": [],
   "source": [
    "# URL to download COCO \"2017 Val images [5K/1GB]\"\n",
    "# Taken from: https://cocodataset.org/#download\n",
    "annotations_URL = 'http://images.cocodataset.org/annotations/annotations_trainval2017.zip'\n",
    "annotations_file_name = annotations_URL.split('/')[len(annotations_URL.split('/'))-1]\n",
    "local_annotations_dir = '../datasets/annotations'\n",
    "annotation_file_to_use = 'annotations/instances_train2017.json' # The file from downloaded annotations to use\n",
    "\n",
    "# Get all images containing given COCO categories\n",
    "category_names = ['person'] #['bird'] # ['person'] # Run 2 times\n",
    "images_to_download = 200 #10 #1000, 3000 # How many images to download from the COCO dataset\n",
    "\n",
    "local_images_path = '../datasets/coco_images'"
   ]
  },
  {
   "cell_type": "code",
   "execution_count": 12,
   "id": "ababa379-7c79-44d1-9f9e-fc64bb8b5a3a",
   "metadata": {},
   "outputs": [
    {
     "name": "stdout",
     "output_type": "stream",
     "text": [
      "Local annotations directory already exists\n",
      "loading annotations into memory...\n",
      "Done (t=18.19s)\n",
      "creating index...\n",
      "index created!\n",
      "COCO API initialised\n",
      "COCO categories: \n",
      "person bicycle car motorcycle airplane bus train truck boat traffic light fire hydrant stop sign parking meter bench bird cat dog horse sheep cow elephant bear zebra giraffe backpack umbrella handbag tie suitcase frisbee skis snowboard sports ball kite baseball bat baseball glove skateboard surfboard tennis racket bottle wine glass cup fork knife spoon bowl banana apple sandwich orange broccoli carrot hot dog pizza donut cake chair couch potted plant bed dining table toilet tv laptop mouse remote keyboard cell phone microwave oven toaster sink refrigerator book clock vase scissors teddy bear hair drier toothbrush\n",
      "\n",
      "COCO supercategories: \n",
      "person vehicle food sports indoor outdoor appliance electronic accessory kitchen animal furniture\n",
      "Found 64115 images for the categories ['person']\n",
      "Local images directory created\n",
      "Downloaded 200 images\n"
     ]
    }
   ],
   "source": [
    "# Download file from web\n",
    "def download_file(url, local_filename):  \n",
    "    # Send a HTTP request to the URL  \n",
    "    response = requests.get(url)  \n",
    "      \n",
    "    # Write the content of the response (the file) to a local file  \n",
    "    with open(local_filename, 'wb') as f:  \n",
    "        f.write(response.content)\n",
    "\n",
    "    return response.content\n",
    "\n",
    "# Only download the annotations if they do not exist\n",
    "if not Path(local_annotations_dir).exists():\n",
    "    # Create directory\n",
    "    os.makedirs(local_annotations_dir, exist_ok=True)\n",
    "    print('Local annotations directory created')\n",
    "\n",
    "    # Download annotation file\n",
    "    print('Started downloading annotations')\n",
    "    download_file(annotations_URL, os.path.join(local_annotations_dir, annotations_file_name))\n",
    "    print('Annotations downloaded')\n",
    "\n",
    "    # Unzip the file\n",
    "    zipfile.ZipFile(os.path.join(local_annotations_dir, annotations_file_name)).extractall(os.path.join(local_annotations_dir, annotations_file_name.replace('.zip','')))\n",
    "    print('Annotations unzipped')\n",
    "\n",
    "else:\n",
    "    print('Local annotations directory already exists')\n",
    "\n",
    "    \n",
    "# Initialise the COCO api\n",
    "coco = COCO(os.path.join(\n",
    "    os.path.join(local_annotations_dir, annotations_file_name.replace('.zip','')),\n",
    "    annotation_file_to_use\n",
    "))\n",
    "print('COCO API initialised')\n",
    "\n",
    "# -------------\n",
    "# display COCO categories and supercategories\n",
    "cats = coco.loadCats(coco.getCatIds())\n",
    "nms=[cat['name'] for cat in cats]\n",
    "print('COCO categories: \\n{}\\n'.format(' '.join(nms)))\n",
    "\n",
    "nms = set([cat['supercategory'] for cat in cats])\n",
    "print('COCO supercategories: \\n{}'.format(' '.join(nms)))\n",
    "# -------------\n",
    "\n",
    "catIds = coco.getCatIds(catNms=category_names)\n",
    "imgIds = coco.getImgIds(catIds=catIds)\n",
    "print(f'Found {len(imgIds)} images for the categories {str(category_names)}')\n",
    "\n",
    "# Images to download cannot be more than available images\n",
    "if images_to_download > len(imgIds):\n",
    "    images_to_download = len(imgIds)\n",
    "\n",
    "# Load image information\n",
    "img_info_list = coco.loadImgs(imgIds)\n",
    "\n",
    "# Create directory\n",
    "os.makedirs(local_images_path, exist_ok=True)\n",
    "print('Local images directory created')\n",
    "\n",
    "# Keep track of how many images downloaded\n",
    "image_counter = 0\n",
    "\n",
    "for img_info in img_info_list:\n",
    "\n",
    "    # Get the coco_url\n",
    "    coco_url = img_info['coco_url']\n",
    "    # print(f\"COCO URL: {coco_url}\")\n",
    "\n",
    "    coco_filename = coco_url.split('/')[len(coco_url.split('/'))-1]\n",
    "\n",
    "    # Save locally (for easy viewing)\n",
    "    binary_data = download_file(coco_url, os.path.join(local_images_path, coco_filename))    \n",
    "\n",
    "    image_counter += 1\n",
    "\n",
    "    if image_counter >= images_to_download:\n",
    "        print(f'Downloaded {images_to_download} images')\n",
    "        break"
   ]
  }
 ],
 "metadata": {
  "kernelspec": {
   "display_name": "Python 3.11 (huggingface2)",
   "language": "python",
   "name": "huggingface2"
  },
  "language_info": {
   "codemirror_mode": {
    "name": "ipython",
    "version": 3
   },
   "file_extension": ".py",
   "mimetype": "text/x-python",
   "name": "python",
   "nbconvert_exporter": "python",
   "pygments_lexer": "ipython3",
   "version": "3.11.13"
  }
 },
 "nbformat": 4,
 "nbformat_minor": 5
}
